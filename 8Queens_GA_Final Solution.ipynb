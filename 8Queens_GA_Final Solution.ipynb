{
 "cells": [
  {
   "cell_type": "markdown",
   "metadata": {},
   "source": [
    "#  8-Queens Puzzle using Genetic Algorithm    #"
   ]
  },
  {
   "cell_type": "markdown",
   "metadata": {},
   "source": [
    "### What is 8-Queens puzzle?"
   ]
  },
  {
   "cell_type": "markdown",
   "metadata": {},
   "source": [
    "'''The eight queens puzzle is the problem of placing eight chess queens on an 8×8 chessboard so that no two queens threaten each other; thus, a solution requires that no two queens share the same row, column, or diagonal. The eight queens puzzle is an example of the more general n queens problem of placing n non-attacking queens on an n×n chessboard. (Source : https://en.wikipedia.org/wiki/Eight_queens_puzzle )'''"
   ]
  },
  {
   "cell_type": "markdown",
   "metadata": {},
   "source": [
    "### Challenge:"
   ]
  },
  {
   "cell_type": "markdown",
   "metadata": {},
   "source": [
    "'''The challenge is to generate one right sequence through Genetic Programming. The sequence has to be 8 numbers between 0 to 7. Each number represents the positions the Queens can be placed. Each number refers to the row number in the specific column'''"
   ]
  },
  {
   "cell_type": "markdown",
   "metadata": {},
   "source": [
    "# Solution"
   ]
  },
  {
   "cell_type": "markdown",
   "metadata": {},
   "source": [
    "### Import Libraries"
   ]
  },
  {
   "cell_type": "code",
   "execution_count": null,
   "metadata": {},
   "outputs": [],
   "source": [
    "import random"
   ]
  },
  {
   "cell_type": "markdown",
   "metadata": {},
   "source": [
    "### Function to create a random sequence "
   ]
  },
  {
   "cell_type": "code",
   "execution_count": null,
   "metadata": {},
   "outputs": [],
   "source": [
    "def random_seq(size): #making random sequence \n",
    "    return [ random.randint(1, nq) for _ in range(nq) ]"
   ]
  },
  {
   "cell_type": "markdown",
   "metadata": {},
   "source": [
    "### Function to calculate \"Fitness\" score of the selected sequence"
   ]
  },
  {
   "cell_type": "code",
   "execution_count": null,
   "metadata": {},
   "outputs": [],
   "source": [
    "def fitness(seq):\n",
    "    horizontal_collisions = sum([seq.count(q)-1 for q in seq])/2\n",
    "    diagonal_collisions = 0\n",
    "    \n",
    "    for i in range(len(seq)):\n",
    "        for j in range(len(seq)):\n",
    "            if ( i != j):\n",
    "                dx = abs(i-j)\n",
    "                dy = abs(seq[i] - seq[j])\n",
    "                if(dx == dy):\n",
    "                    diagonal_collisions += 1\n",
    "    \n",
    "    return int(maxFitness - (horizontal_collisions + diagonal_collisions)) #28-(2+3)=23"
   ]
  },
  {
   "cell_type": "markdown",
   "metadata": {},
   "source": [
    "### Function to find the probability of the selected sequence"
   ]
  },
  {
   "cell_type": "code",
   "execution_count": null,
   "metadata": {},
   "outputs": [],
   "source": [
    "def probability(seq, fitness):\n",
    "    return fitness(seq) / maxFitness"
   ]
  },
  {
   "cell_type": "markdown",
   "metadata": {},
   "source": [
    "### Function to randomly pick a sequence with a good probablity"
   ]
  },
  {
   "cell_type": "code",
   "execution_count": null,
   "metadata": {},
   "outputs": [],
   "source": [
    "def random_pick(population, probabilities):\n",
    "    populationWithProbabilty = zip(population, probabilities)\n",
    "    total = sum(w for c, w in populationWithProbabilty)\n",
    "    r = random.uniform(0, total)\n",
    "    upto = 0\n",
    "    for c, w in zip(population, probabilities):\n",
    "        if upto + w >= r:\n",
    "            return c\n",
    "        upto += w\n",
    "    assert False, \"False\""
   ]
  },
  {
   "cell_type": "markdown",
   "metadata": {},
   "source": [
    "### Function to perform a crossover of two selected sequences"
   ]
  },
  {
   "cell_type": "code",
   "execution_count": null,
   "metadata": {},
   "outputs": [],
   "source": [
    "def crossover(x, y): \n",
    "    n = len(x)\n",
    "    c = random.randint(0, n - 1)\n",
    "    return x[0:c] + y[c:n]"
   ]
  },
  {
   "cell_type": "markdown",
   "metadata": {},
   "source": [
    "### Function to perform mutation of a selected sequence"
   ]
  },
  {
   "cell_type": "code",
   "execution_count": null,
   "metadata": {},
   "outputs": [],
   "source": [
    "def mutate(x):  #randomly changing the value of a random index of a seq\n",
    "    n = len(x)\n",
    "    c = random.randint(0, n - 1)\n",
    "    m = random.randint(1, n)\n",
    "    x[c] = m\n",
    "    return x"
   ]
  },
  {
   "cell_type": "markdown",
   "metadata": {},
   "source": [
    "### Function to analyze and pick the best possible sequences that are close or equal to the expected solution"
   ]
  },
  {
   "cell_type": "code",
   "execution_count": null,
   "metadata": {},
   "outputs": [],
   "source": [
    "def genetic_queen(population, fitness):\n",
    "    mutation_probability = 0.03\n",
    "    new_population = []\n",
    "    probabilities = [probability(n, fitness) for n in population]\n",
    "    for i in range(len(population)):\n",
    "        x = random_pick(population, probabilities) #seq 1\n",
    "        y = random_pick(population, probabilities) #seq 2\n",
    "        child = crossover(x, y) #creating two new child_sequences from the above 2 parent_sequences\n",
    "        if random.random() < mutation_probability:\n",
    "            child = mutate(child)\n",
    "        print_seq(child)\n",
    "        new_population.append(child)\n",
    "        if fitness(child) == maxFitness: break\n",
    "    return new_population"
   ]
  },
  {
   "cell_type": "markdown",
   "metadata": {},
   "source": [
    "### Function to print the selected sequence and its fitness score"
   ]
  },
  {
   "cell_type": "code",
   "execution_count": null,
   "metadata": {},
   "outputs": [],
   "source": [
    "def print_seq(seq):\n",
    "    print(\"Sequence = {},  Fitness = {}\"\n",
    "        .format(str(seq), fitness(seq)))"
   ]
  },
  {
   "cell_type": "markdown",
   "metadata": {},
   "source": [
    "# Main part of code which calls all other functions and finalizes the output"
   ]
  },
  {
   "cell_type": "code",
   "execution_count": null,
   "metadata": {},
   "outputs": [],
   "source": [
    "if __name__ == \"__main__\":\n",
    "    nq = 8\n",
    "    maxFitness = (nq*(nq-1))/2  # 8*7/2 = 28\n",
    "    population = [random_seq(nq) for _ in range(100)]\n",
    "    \n",
    "    generation = 1\n",
    "\n",
    "    while not maxFitness in [fitness(seq) for seq in population]:\n",
    "        print(\"=== Generation {} ===\".format(generation))\n",
    "        population = genetic_queen(population, fitness)\n",
    "        print(\"\")\n",
    "        print(\"Maximum Fitness = {}\".format(max([fitness(n) for n in population])))\n",
    "        generation += 1\n",
    "    final_seq = []\n",
    "    print(\"Solved in Generation {}!\".format(generation-1))\n",
    "    for seq in population:\n",
    "        if fitness(seq) == maxFitness:\n",
    "            print(\"\");\n",
    "            print(\"One of the solutions: \")\n",
    "            final_seq = seq\n",
    "            print_seq(final_seq)\n",
    "            \n",
    "    board = []\n",
    "\n",
    "    for x in range(nq):\n",
    "        board.append([\"x\"] * nq)\n",
    "        \n",
    "    for i in range(nq):\n",
    "        board[nq-final_seq[i]][i]=\"Q\"\n",
    "            \n",
    "\n",
    "    def print_board(board):\n",
    "        for row in board:\n",
    "            print (\" \".join(row))\n",
    "            \n",
    "    print()\n",
    "    print_board(board)"
   ]
  },
  {
   "cell_type": "markdown",
   "metadata": {},
   "source": [
    "## Solution to the 8-Queens puzzle is:"
   ]
  },
  {
   "cell_type": "code",
   "execution_count": null,
   "metadata": {},
   "outputs": [],
   "source": [
    "print(final_seq)"
   ]
  }
 ],
 "metadata": {
  "kernelspec": {
   "display_name": "Python 3",
   "language": "python",
   "name": "python3"
  },
  "language_info": {
   "codemirror_mode": {
    "name": "ipython",
    "version": 3
   },
   "file_extension": ".py",
   "mimetype": "text/x-python",
   "name": "python",
   "nbconvert_exporter": "python",
   "pygments_lexer": "ipython3",
   "version": "3.8.3"
  }
 },
 "nbformat": 4,
 "nbformat_minor": 4
}
