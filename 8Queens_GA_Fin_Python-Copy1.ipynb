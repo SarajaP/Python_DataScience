{
 "cells": [
  {
   "cell_type": "code",
   "execution_count": 13,
   "metadata": {},
   "outputs": [],
   "source": [
    "import random\n",
    "import numpy as np"
   ]
  },
  {
   "cell_type": "code",
   "execution_count": 16,
   "metadata": {},
   "outputs": [],
   "source": [
    "def random_seq(size): #making random sequence \n",
    "    dist = np.arange(size)\n",
    "    np.random.shuffle(dist)\n",
    "    return list(dist) #[ random.randint(1, nq) for _ in range(nq) ]"
   ]
  },
  {
   "cell_type": "code",
   "execution_count": 3,
   "metadata": {},
   "outputs": [],
   "source": [
    "def fitness(seq):\n",
    "    horizontal_collisions = sum([seq.count(q)-1 for q in seq])/2\n",
    "    diagonal_collisions = 0\n",
    "    \n",
    "    for i in range(len(seq)):\n",
    "        for j in range(len(seq)):\n",
    "            if ( i != j):\n",
    "                dx = abs(i-j)\n",
    "                dy = abs(seq[i] - seq[j])\n",
    "                if(dx == dy):\n",
    "                    diagonal_collisions += 1\n",
    "    \n",
    "    return int(maxFitness - (horizontal_collisions + diagonal_collisions))"
   ]
  },
  {
   "cell_type": "code",
   "execution_count": 4,
   "metadata": {},
   "outputs": [],
   "source": [
    "def probability(seq, fitness):\n",
    "    return fitness(seq) / maxFitness"
   ]
  },
  {
   "cell_type": "code",
   "execution_count": 5,
   "metadata": {},
   "outputs": [],
   "source": [
    "def random_pick(population, probabilities):\n",
    "    populationWithProbabilty = zip(population, probabilities)\n",
    "    total = sum(w for c, w in populationWithProbabilty)\n",
    "    r = random.uniform(0, total)\n",
    "    upto = 0\n",
    "    for c, w in zip(population, probabilities):\n",
    "        if upto + w >= r:\n",
    "            return c\n",
    "        upto += w\n",
    "    assert False, \"False\""
   ]
  },
  {
   "cell_type": "code",
   "execution_count": 6,
   "metadata": {},
   "outputs": [],
   "source": [
    "def crossover(x, y): \n",
    "    n = len(x)\n",
    "    c = random.randint(0, n - 1)\n",
    "    return x[0:c] + y[c:n]"
   ]
  },
  {
   "cell_type": "code",
   "execution_count": 7,
   "metadata": {},
   "outputs": [],
   "source": [
    "def mutate(x):  #randomly changing the value of a random index of a seq\n",
    "    n = len(x)\n",
    "    c = random.randint(0, n - 1)\n",
    "    m = random.randint(0, n-1)\n",
    "    x[c] = m\n",
    "    return x"
   ]
  },
  {
   "cell_type": "code",
   "execution_count": 8,
   "metadata": {},
   "outputs": [],
   "source": [
    "def genetic_queen(population, fitness):\n",
    "    mutation_probability = 0.03\n",
    "    new_population = []\n",
    "    probabilities = [probability(n, fitness) for n in population]\n",
    "    for i in range(len(population)):\n",
    "        x = random_pick(population, probabilities) #seq 1\n",
    "        y = random_pick(population, probabilities) #seq 2\n",
    "        child = crossover(x, y) #creating two new child_sequences from the above 2 parent_sequences\n",
    "        if random.random() < mutation_probability:\n",
    "            child = mutate(child)\n",
    "        print_seq(child)\n",
    "        new_population.append(child)\n",
    "        if fitness(child) == maxFitness: break\n",
    "    return new_population"
   ]
  },
  {
   "cell_type": "code",
   "execution_count": 9,
   "metadata": {},
   "outputs": [],
   "source": [
    "def print_seq(seq):\n",
    "    print(\"Sequence = {},  Fitness = {}\"\n",
    "        .format(str(seq), fitness(seq)))"
   ]
  },
  {
   "cell_type": "code",
   "execution_count": 19,
   "metadata": {},
   "outputs": [
    {
     "name": "stdout",
     "output_type": "stream",
     "text": [
      "Solved in Generation 0!\n",
      "\n",
      "One of the solutions: \n",
      "Sequence = [6, 3, 1, 7, 5, 0, 2, 4],  Fitness = 28\n"
     ]
    }
   ],
   "source": [
    "if __name__ == \"__main__\":\n",
    "    nq = 8\n",
    "    maxFitness = (nq*(nq-1))/2  # 8*7/2 = 28\n",
    "    population = [random_seq(nq) for _ in range(100)]\n",
    "    \n",
    "    generation = 1\n",
    "\n",
    "    while not maxFitness in [fitness(seq) for seq in population]:\n",
    "        print(\"=== Generation {} ===\".format(generation))\n",
    "        population = genetic_queen(population, fitness)\n",
    "        print(\"\")\n",
    "        print(\"Maximum Fitness = {}\".format(max([fitness(n) for n in population])))\n",
    "        generation += 1\n",
    "    final_seq = []\n",
    "    print(\"Solved in Generation {}!\".format(generation-1))\n",
    "    for seq in population:\n",
    "        if fitness(seq) == maxFitness:\n",
    "            print(\"\");\n",
    "            print(\"One of the solutions: \")\n",
    "            final_seq = seq\n",
    "            print_seq(final_seq)\n"
   ]
  },
  {
   "cell_type": "code",
   "execution_count": 20,
   "metadata": {},
   "outputs": [
    {
     "name": "stdout",
     "output_type": "stream",
     "text": [
      "\n",
      "x x x Q x x x x\n",
      "Q x x x x x x x\n",
      "x x x x Q x x x\n",
      "x x x x x x x Q\n",
      "x Q x x x x x x\n",
      "x x x x x x Q x\n",
      "x x Q x x x x x\n",
      "x x x x x Q x x\n"
     ]
    }
   ],
   "source": [
    "board = []\n",
    "\n",
    "for x in range(nq):\n",
    "    board.append([\"x\"] * nq)\n",
    "\n",
    "for i in range(nq):\n",
    "    board[nq-final_seq[i]-1][i]=\"Q\"\n",
    "\n",
    "\n",
    "def print_board(board):\n",
    "    for row in board:\n",
    "        print (\" \".join(row))\n",
    "\n",
    "print()\n",
    "print_board(board)"
   ]
  }
 ],
 "metadata": {
  "kernelspec": {
   "display_name": "Python 3",
   "language": "python",
   "name": "python3"
  },
  "language_info": {
   "codemirror_mode": {
    "name": "ipython",
    "version": 3
   },
   "file_extension": ".py",
   "mimetype": "text/x-python",
   "name": "python",
   "nbconvert_exporter": "python",
   "pygments_lexer": "ipython3",
   "version": "3.8.3"
  }
 },
 "nbformat": 4,
 "nbformat_minor": 4
}
